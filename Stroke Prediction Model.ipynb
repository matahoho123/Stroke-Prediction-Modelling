{
 "cells": [
  {
   "cell_type": "code",
   "execution_count": 96,
   "id": "58cf24da-7743-4a59-a41c-cd303826cc6c",
   "metadata": {},
   "outputs": [],
   "source": [
    "import numpy as np\n",
    "import pandas as pd\n",
    "import matplotlib.pyplot as plt\n",
    "import seaborn as sns\n",
    "%matplotlib inline\n",
    "import plotly\n",
    "import plotly.express as px\n",
    "import plotly.io as pio"
   ]
  },
  {
   "cell_type": "code",
   "execution_count": 101,
   "id": "6656c1d7-2831-4927-b55c-d647d1156736",
   "metadata": {},
   "outputs": [
    {
     "name": "stdout",
     "output_type": "stream",
     "text": [
      "         id  gender   age  hypertension  heart_disease ever_married  \\\n",
      "0      9046    Male  67.0             0              1          Yes   \n",
      "1     51676  Female  61.0             0              0          Yes   \n",
      "2     31112    Male  80.0             0              1          Yes   \n",
      "3     60182  Female  49.0             0              0          Yes   \n",
      "4      1665  Female  79.0             1              0          Yes   \n",
      "...     ...     ...   ...           ...            ...          ...   \n",
      "5105  18234  Female  80.0             1              0          Yes   \n",
      "5106  44873  Female  81.0             0              0          Yes   \n",
      "5107  19723  Female  35.0             0              0          Yes   \n",
      "5108  37544    Male  51.0             0              0          Yes   \n",
      "5109  44679  Female  44.0             0              0          Yes   \n",
      "\n",
      "          work_type Residence_type  avg_glucose_level   bmi   smoking_status  \\\n",
      "0           Private          Urban             228.69  36.6  formerly smoked   \n",
      "1     Self-employed          Rural             202.21   NaN     never smoked   \n",
      "2           Private          Rural             105.92  32.5     never smoked   \n",
      "3           Private          Urban             171.23  34.4           smokes   \n",
      "4     Self-employed          Rural             174.12  24.0     never smoked   \n",
      "...             ...            ...                ...   ...              ...   \n",
      "5105        Private          Urban              83.75   NaN     never smoked   \n",
      "5106  Self-employed          Urban             125.20  40.0     never smoked   \n",
      "5107  Self-employed          Rural              82.99  30.6     never smoked   \n",
      "5108        Private          Rural             166.29  25.6  formerly smoked   \n",
      "5109       Govt_job          Urban              85.28  26.2          Unknown   \n",
      "\n",
      "      stroke  \n",
      "0          1  \n",
      "1          1  \n",
      "2          1  \n",
      "3          1  \n",
      "4          1  \n",
      "...      ...  \n",
      "5105       0  \n",
      "5106       0  \n",
      "5107       0  \n",
      "5108       0  \n",
      "5109       0  \n",
      "\n",
      "[5110 rows x 12 columns]\n"
     ]
    }
   ],
   "source": [
    "stroke_dataset = pd.read_csv(\"healthcare-dataset-stroke-data.csv.csv\")\n",
    "print(stroke_dataset)"
   ]
  },
  {
   "cell_type": "code",
   "execution_count": 102,
   "id": "f3171dba-c5ee-49ae-bece-a1e3d6143ef2",
   "metadata": {},
   "outputs": [
    {
     "name": "stdout",
     "output_type": "stream",
     "text": [
      "<class 'pandas.core.frame.DataFrame'>\n",
      "RangeIndex: 5110 entries, 0 to 5109\n",
      "Data columns (total 12 columns):\n",
      " #   Column             Non-Null Count  Dtype  \n",
      "---  ------             --------------  -----  \n",
      " 0   id                 5110 non-null   int64  \n",
      " 1   gender             5110 non-null   object \n",
      " 2   age                5110 non-null   float64\n",
      " 3   hypertension       5110 non-null   int64  \n",
      " 4   heart_disease      5110 non-null   int64  \n",
      " 5   ever_married       5110 non-null   object \n",
      " 6   work_type          5110 non-null   object \n",
      " 7   Residence_type     5110 non-null   object \n",
      " 8   avg_glucose_level  5110 non-null   float64\n",
      " 9   bmi                4909 non-null   float64\n",
      " 10  smoking_status     5110 non-null   object \n",
      " 11  stroke             5110 non-null   int64  \n",
      "dtypes: float64(3), int64(4), object(5)\n",
      "memory usage: 479.2+ KB\n"
     ]
    }
   ],
   "source": [
    "#Understanding the Stroke dataset\n",
    "stroke_dataset.info()"
   ]
  },
  {
   "cell_type": "code",
   "execution_count": 103,
   "id": "6ea96098-abb5-4d33-b2a6-7d486da73e65",
   "metadata": {},
   "outputs": [
    {
     "data": {
      "text/html": [
       "<div>\n",
       "<style scoped>\n",
       "    .dataframe tbody tr th:only-of-type {\n",
       "        vertical-align: middle;\n",
       "    }\n",
       "\n",
       "    .dataframe tbody tr th {\n",
       "        vertical-align: top;\n",
       "    }\n",
       "\n",
       "    .dataframe thead th {\n",
       "        text-align: right;\n",
       "    }\n",
       "</style>\n",
       "<table border=\"1\" class=\"dataframe\">\n",
       "  <thead>\n",
       "    <tr style=\"text-align: right;\">\n",
       "      <th></th>\n",
       "      <th>id</th>\n",
       "      <th>age</th>\n",
       "      <th>hypertension</th>\n",
       "      <th>heart_disease</th>\n",
       "      <th>avg_glucose_level</th>\n",
       "      <th>bmi</th>\n",
       "      <th>stroke</th>\n",
       "    </tr>\n",
       "  </thead>\n",
       "  <tbody>\n",
       "    <tr>\n",
       "      <th>count</th>\n",
       "      <td>5110.000000</td>\n",
       "      <td>5110.000000</td>\n",
       "      <td>5110.000000</td>\n",
       "      <td>5110.000000</td>\n",
       "      <td>5110.000000</td>\n",
       "      <td>4909.000000</td>\n",
       "      <td>5110.000000</td>\n",
       "    </tr>\n",
       "    <tr>\n",
       "      <th>mean</th>\n",
       "      <td>36517.829354</td>\n",
       "      <td>43.226614</td>\n",
       "      <td>0.097456</td>\n",
       "      <td>0.054012</td>\n",
       "      <td>106.147677</td>\n",
       "      <td>28.893237</td>\n",
       "      <td>0.048728</td>\n",
       "    </tr>\n",
       "    <tr>\n",
       "      <th>std</th>\n",
       "      <td>21161.721625</td>\n",
       "      <td>22.612647</td>\n",
       "      <td>0.296607</td>\n",
       "      <td>0.226063</td>\n",
       "      <td>45.283560</td>\n",
       "      <td>7.854067</td>\n",
       "      <td>0.215320</td>\n",
       "    </tr>\n",
       "    <tr>\n",
       "      <th>min</th>\n",
       "      <td>67.000000</td>\n",
       "      <td>0.080000</td>\n",
       "      <td>0.000000</td>\n",
       "      <td>0.000000</td>\n",
       "      <td>55.120000</td>\n",
       "      <td>10.300000</td>\n",
       "      <td>0.000000</td>\n",
       "    </tr>\n",
       "    <tr>\n",
       "      <th>25%</th>\n",
       "      <td>17741.250000</td>\n",
       "      <td>25.000000</td>\n",
       "      <td>0.000000</td>\n",
       "      <td>0.000000</td>\n",
       "      <td>77.245000</td>\n",
       "      <td>23.500000</td>\n",
       "      <td>0.000000</td>\n",
       "    </tr>\n",
       "    <tr>\n",
       "      <th>50%</th>\n",
       "      <td>36932.000000</td>\n",
       "      <td>45.000000</td>\n",
       "      <td>0.000000</td>\n",
       "      <td>0.000000</td>\n",
       "      <td>91.885000</td>\n",
       "      <td>28.100000</td>\n",
       "      <td>0.000000</td>\n",
       "    </tr>\n",
       "    <tr>\n",
       "      <th>75%</th>\n",
       "      <td>54682.000000</td>\n",
       "      <td>61.000000</td>\n",
       "      <td>0.000000</td>\n",
       "      <td>0.000000</td>\n",
       "      <td>114.090000</td>\n",
       "      <td>33.100000</td>\n",
       "      <td>0.000000</td>\n",
       "    </tr>\n",
       "    <tr>\n",
       "      <th>max</th>\n",
       "      <td>72940.000000</td>\n",
       "      <td>82.000000</td>\n",
       "      <td>1.000000</td>\n",
       "      <td>1.000000</td>\n",
       "      <td>271.740000</td>\n",
       "      <td>97.600000</td>\n",
       "      <td>1.000000</td>\n",
       "    </tr>\n",
       "  </tbody>\n",
       "</table>\n",
       "</div>"
      ],
      "text/plain": [
       "                 id          age  hypertension  heart_disease  \\\n",
       "count   5110.000000  5110.000000   5110.000000    5110.000000   \n",
       "mean   36517.829354    43.226614      0.097456       0.054012   \n",
       "std    21161.721625    22.612647      0.296607       0.226063   \n",
       "min       67.000000     0.080000      0.000000       0.000000   \n",
       "25%    17741.250000    25.000000      0.000000       0.000000   \n",
       "50%    36932.000000    45.000000      0.000000       0.000000   \n",
       "75%    54682.000000    61.000000      0.000000       0.000000   \n",
       "max    72940.000000    82.000000      1.000000       1.000000   \n",
       "\n",
       "       avg_glucose_level          bmi       stroke  \n",
       "count        5110.000000  4909.000000  5110.000000  \n",
       "mean          106.147677    28.893237     0.048728  \n",
       "std            45.283560     7.854067     0.215320  \n",
       "min            55.120000    10.300000     0.000000  \n",
       "25%            77.245000    23.500000     0.000000  \n",
       "50%            91.885000    28.100000     0.000000  \n",
       "75%           114.090000    33.100000     0.000000  \n",
       "max           271.740000    97.600000     1.000000  "
      ]
     },
     "execution_count": 103,
     "metadata": {},
     "output_type": "execute_result"
    }
   ],
   "source": [
    "stroke_dataset.describe()"
   ]
  },
  {
   "cell_type": "code",
   "execution_count": 104,
   "id": "de9eb9aa-e325-4597-a64b-b580a5aa36a4",
   "metadata": {},
   "outputs": [
    {
     "data": {
      "text/plain": [
       "id                     0\n",
       "gender                 0\n",
       "age                    0\n",
       "hypertension           0\n",
       "heart_disease          0\n",
       "ever_married           0\n",
       "work_type              0\n",
       "Residence_type         0\n",
       "avg_glucose_level      0\n",
       "bmi                  201\n",
       "smoking_status         0\n",
       "stroke                 0\n",
       "dtype: int64"
      ]
     },
     "execution_count": 104,
     "metadata": {},
     "output_type": "execute_result"
    }
   ],
   "source": [
    "stroke_dataset.head()"
   ]
  },
  {
   "cell_type": "code",
   "execution_count": 105,
   "id": "0936a5ea-3db1-4ec9-8648-807728f66d77",
   "metadata": {},
   "outputs": [
    {
     "data": {
      "text/plain": [
       "id                     0\n",
       "gender                 0\n",
       "age                    0\n",
       "hypertension           0\n",
       "heart_disease          0\n",
       "ever_married           0\n",
       "work_type              0\n",
       "Residence_type         0\n",
       "avg_glucose_level      0\n",
       "bmi                  201\n",
       "smoking_status         0\n",
       "stroke                 0\n",
       "dtype: int64"
      ]
     },
     "execution_count": 105,
     "metadata": {},
     "output_type": "execute_result"
    }
   ],
   "source": [
    "stroke_dataset.isnull().sum()"
   ]
  },
  {
   "cell_type": "code",
   "execution_count": 106,
   "id": "b1ffb7df-ee35-4793-99c8-a1d5438a5bdf",
   "metadata": {},
   "outputs": [
    {
     "data": {
      "text/plain": [
       "id                   0\n",
       "gender               0\n",
       "age                  0\n",
       "hypertension         0\n",
       "heart_disease        0\n",
       "ever_married         0\n",
       "work_type            0\n",
       "Residence_type       0\n",
       "avg_glucose_level    0\n",
       "bmi                  0\n",
       "smoking_status       0\n",
       "stroke               0\n",
       "dtype: int64"
      ]
     },
     "execution_count": 106,
     "metadata": {},
     "output_type": "execute_result"
    }
   ],
   "source": [
    "#Check if BMI still has null after replacing BMI null values with BMI mean\n",
    "stroke_dataset['bmi'] = stroke_dataset['bmi'].fillna(stroke_dataset['bmi'].mean())\n",
    "stroke_dataset.isnull().sum()"
   ]
  },
  {
   "cell_type": "code",
   "execution_count": 110,
   "id": "e6da9590-1895-4897-96fc-9598d587d0d9",
   "metadata": {},
   "outputs": [
    {
     "data": {
      "text/plain": [
       "0    4861\n",
       "1     249\n",
       "Name: stroke, dtype: int64"
      ]
     },
     "execution_count": 110,
     "metadata": {},
     "output_type": "execute_result"
    }
   ],
   "source": [
    "stroke_dataset[\"stroke\"].value_counts()"
   ]
  },
  {
   "cell_type": "code",
   "execution_count": 108,
   "id": "c37114f2-48f9-4207-ae46-e351b72dd58c",
   "metadata": {},
   "outputs": [
    {
     "data": {
      "text/plain": [
       "0    4612\n",
       "1     498\n",
       "Name: hypertension, dtype: int64"
      ]
     },
     "execution_count": 108,
     "metadata": {},
     "output_type": "execute_result"
    }
   ],
   "source": [
    "stroke_dataset[\"hypertension\"].value_counts()"
   ]
  },
  {
   "cell_type": "code",
   "execution_count": 109,
   "id": "3fd1e146-a0e9-40a2-ad8d-a1adfa545df5",
   "metadata": {},
   "outputs": [
    {
     "data": {
      "text/plain": [
       "0    4834\n",
       "1     276\n",
       "Name: heart_disease, dtype: int64"
      ]
     },
     "execution_count": 109,
     "metadata": {},
     "output_type": "execute_result"
    }
   ],
   "source": [
    "stroke_dataset[\"heart_disease\"].value_counts()"
   ]
  },
  {
   "cell_type": "code",
   "execution_count": 111,
   "id": "e0f7fdf3-bae7-4d85-a68b-8d4c73384d15",
   "metadata": {},
   "outputs": [
    {
     "name": "stderr",
     "output_type": "stream",
     "text": [
      "/Users/ctn/opt/anaconda3/lib/python3.8/site-packages/seaborn/_decorators.py:36: FutureWarning: Pass the following variable as a keyword arg: x. From version 0.12, the only valid positional argument will be `data`, and passing other arguments without an explicit keyword will result in an error or misinterpretation.\n",
      "  warnings.warn(\n"
     ]
    },
    {
     "data": {
      "text/plain": [
       "<AxesSubplot:xlabel='stroke', ylabel='count'>"
      ]
     },
     "execution_count": 111,
     "metadata": {},
     "output_type": "execute_result"
    },
    {
     "data": {
      "image/png": "[encoded data removed]",
      "text/plain": [
       "<Figure size 432x288 with 1 Axes>"
      ]
     },
     "metadata": {
      "needs_background": "light"
     },
     "output_type": "display_data"
    }
   ],
   "source": [
    "sns.countplot(stroke_dataset['stroke'], hue=stroke_dataset['smoking_status'])"
   ]
  },
  {
   "cell_type": "code",
   "execution_count": 112,
   "id": "6e64ef24-055f-49e3-8d9b-ab40b0571b5d",
   "metadata": {},
   "outputs": [
    {
     "data": {
      "text/plain": [
       "<AxesSubplot:>"
      ]
     },
     "execution_count": 112,
     "metadata": {},
     "output_type": "execute_result"
    },
    {
     "data": {
      "image/png": "[encoded data removed]",
      "text/plain": [
       "<Figure size 432x288 with 2 Axes>"
      ]
     },
     "metadata": {
      "needs_background": "light"
     },
     "output_type": "display_data"
    }
   ],
   "source": [
    "sns.heatmap(stroke_dataset.corr(), annot = True, cmap = 'viridis')"
   ]
  },
  {
   "cell_type": "code",
   "execution_count": 113,
   "id": "89b78927-d541-4efe-996c-a12b3118d05e",
   "metadata": {},
   "outputs": [
    {
     "data": {
      "image/png": "[encoded data removed]",
      "text/plain": [
       "<Figure size 1440x1080 with 6 Axes>"
      ]
     },
     "metadata": {
      "needs_background": "light"
     },
     "output_type": "display_data"
    }
   ],
   "source": [
    "numerical=['age','hypertension','heart_disease','avg_glucose_level','bmi']\n",
    "stroke_dataset[numerical].hist(bins=30,figsize=(20,15));"
   ]
  },
  {
   "cell_type": "code",
   "execution_count": 114,
   "id": "7dc67502-d66e-462c-8e66-82df3a7e66b0",
   "metadata": {},
   "outputs": [],
   "source": [
    "#Changing values to 1 and 0:\n",
    "def change(col):\n",
    "    if col == 'Male':\n",
    "        return 0\n",
    "    elif col =='Female':\n",
    "        return 1\n",
    "    else:\n",
    "        return 2\n",
    "\n",
    "stroke_dataset['gender'] = stroke_dataset['gender'].apply(change)\n",
    "\n",
    "def alter(col):\n",
    "    if col == 'Private':\n",
    "        return 0\n",
    "    elif col == 'Self-employed':\n",
    "        return 1\n",
    "    elif col == 'Govt_job':\n",
    "        return 2\n",
    "    elif col == 'children':\n",
    "        return 3\n",
    "    else:\n",
    "        return 4\n",
    "\n",
    "stroke_dataset['work_type'] = stroke_dataset['work_type'].apply(alter)\n",
    "\n",
    "def change1(col):\n",
    "    if col == 'formerly smoked':\n",
    "        return 0\n",
    "    elif col == 'never smoked':\n",
    "        return 1\n",
    "    elif col == 'smokes':\n",
    "        return 2\n",
    "    else:\n",
    "        return 3\n",
    "\n",
    "stroke_dataset['smoking_status'] = stroke_dataset['smoking_status'].apply(change1)"
   ]
  },
  {
   "cell_type": "code",
   "execution_count": 115,
   "id": "3bc625e2-027d-4c25-818c-578bce6c8fb5",
   "metadata": {},
   "outputs": [
    {
     "data": {
      "text/html": [
       "<div>\n",
       "<style scoped>\n",
       "    .dataframe tbody tr th:only-of-type {\n",
       "        vertical-align: middle;\n",
       "    }\n",
       "\n",
       "    .dataframe tbody tr th {\n",
       "        vertical-align: top;\n",
       "    }\n",
       "\n",
       "    .dataframe thead th {\n",
       "        text-align: right;\n",
       "    }\n",
       "</style>\n",
       "<table border=\"1\" class=\"dataframe\">\n",
       "  <thead>\n",
       "    <tr style=\"text-align: right;\">\n",
       "      <th></th>\n",
       "      <th>gender</th>\n",
       "      <th>age</th>\n",
       "      <th>hypertension</th>\n",
       "      <th>heart_disease</th>\n",
       "      <th>work_type</th>\n",
       "      <th>avg_glucose_level</th>\n",
       "      <th>bmi</th>\n",
       "      <th>smoking_status</th>\n",
       "      <th>stroke</th>\n",
       "    </tr>\n",
       "  </thead>\n",
       "  <tbody>\n",
       "    <tr>\n",
       "      <th>0</th>\n",
       "      <td>0</td>\n",
       "      <td>67.0</td>\n",
       "      <td>0</td>\n",
       "      <td>1</td>\n",
       "      <td>0</td>\n",
       "      <td>228.69</td>\n",
       "      <td>36.600000</td>\n",
       "      <td>0</td>\n",
       "      <td>1</td>\n",
       "    </tr>\n",
       "    <tr>\n",
       "      <th>1</th>\n",
       "      <td>1</td>\n",
       "      <td>61.0</td>\n",
       "      <td>0</td>\n",
       "      <td>0</td>\n",
       "      <td>1</td>\n",
       "      <td>202.21</td>\n",
       "      <td>28.893237</td>\n",
       "      <td>1</td>\n",
       "      <td>1</td>\n",
       "    </tr>\n",
       "    <tr>\n",
       "      <th>2</th>\n",
       "      <td>0</td>\n",
       "      <td>80.0</td>\n",
       "      <td>0</td>\n",
       "      <td>1</td>\n",
       "      <td>0</td>\n",
       "      <td>105.92</td>\n",
       "      <td>32.500000</td>\n",
       "      <td>1</td>\n",
       "      <td>1</td>\n",
       "    </tr>\n",
       "    <tr>\n",
       "      <th>3</th>\n",
       "      <td>1</td>\n",
       "      <td>49.0</td>\n",
       "      <td>0</td>\n",
       "      <td>0</td>\n",
       "      <td>0</td>\n",
       "      <td>171.23</td>\n",
       "      <td>34.400000</td>\n",
       "      <td>2</td>\n",
       "      <td>1</td>\n",
       "    </tr>\n",
       "    <tr>\n",
       "      <th>4</th>\n",
       "      <td>1</td>\n",
       "      <td>79.0</td>\n",
       "      <td>1</td>\n",
       "      <td>0</td>\n",
       "      <td>1</td>\n",
       "      <td>174.12</td>\n",
       "      <td>24.000000</td>\n",
       "      <td>1</td>\n",
       "      <td>1</td>\n",
       "    </tr>\n",
       "  </tbody>\n",
       "</table>\n",
       "</div>"
      ],
      "text/plain": [
       "   gender   age  hypertension  heart_disease  work_type  avg_glucose_level  \\\n",
       "0       0  67.0             0              1          0             228.69   \n",
       "1       1  61.0             0              0          1             202.21   \n",
       "2       0  80.0             0              1          0             105.92   \n",
       "3       1  49.0             0              0          0             171.23   \n",
       "4       1  79.0             1              0          1             174.12   \n",
       "\n",
       "         bmi  smoking_status  stroke  \n",
       "0  36.600000               0       1  \n",
       "1  28.893237               1       1  \n",
       "2  32.500000               1       1  \n",
       "3  34.400000               2       1  \n",
       "4  24.000000               1       1  "
      ]
     },
     "execution_count": 115,
     "metadata": {},
     "output_type": "execute_result"
    }
   ],
   "source": [
    "#Dropping unnecessary columns\n",
    "stroke_dataset.drop(['id', 'ever_married','Residence_type'], axis = 1, inplace=True)\n",
    "stroke_dataset.head()"
   ]
  },
  {
   "cell_type": "code",
   "execution_count": 119,
   "id": "2486c8a5-dc0e-4368-8815-ae5f0d7cd937",
   "metadata": {},
   "outputs": [],
   "source": [
    "#Training model utilizing sklearn\n",
    "from sklearn.model_selection import train_test_split"
   ]
  },
  {
   "cell_type": "code",
   "execution_count": 120,
   "id": "1cfe415f-4615-4b18-b1e7-1df668103d43",
   "metadata": {},
   "outputs": [
    {
     "name": "stdout",
     "output_type": "stream",
     "text": [
      "[[  0.          67.           0.         ... 228.69        36.6\n",
      "    0.        ]\n",
      " [  1.          61.           0.         ... 202.21        28.89323691\n",
      "    1.        ]\n",
      " [  0.          80.           0.         ... 105.92        32.5\n",
      "    1.        ]\n",
      " ...\n",
      " [  1.          35.           0.         ...  82.99        30.6\n",
      "    1.        ]\n",
      " [  0.          51.           0.         ... 166.29        25.6\n",
      "    0.        ]\n",
      " [  1.          44.           0.         ...  85.28        26.2\n",
      "    3.        ]]\n",
      "[1 1 1 ... 0 0 0]\n"
     ]
    }
   ],
   "source": [
    "X = stroke_dataset.iloc[:,:-1].values\n",
    "print(X)\n",
    "y = stroke_dataset.iloc[:,-1].values\n",
    "print(y)\n",
    "X_train, X_test,y_train, y_test = train_test_split(X, y, test_size = 0.2, random_state = 1)"
   ]
  },
  {
   "cell_type": "code",
   "execution_count": 121,
   "id": "8cde8765-3867-4e70-ae15-c43dc9aeaa34",
   "metadata": {},
   "outputs": [],
   "source": [
    "from sklearn.preprocessing import StandardScaler\n",
    "sc = StandardScaler()\n",
    "X_train = sc.fit_transform(X_train)\n",
    "X_test = sc.fit_transform(X_test)"
   ]
  },
  {
   "cell_type": "code",
   "execution_count": 122,
   "id": "ad4ac428-9e1d-4309-987c-727392959898",
   "metadata": {},
   "outputs": [
    {
     "data": {
      "text/plain": [
       "SVC(random_state=0)"
      ]
     },
     "execution_count": 122,
     "metadata": {},
     "output_type": "execute_result"
    }
   ],
   "source": [
    "from sklearn.svm import SVC\n",
    "classifier = SVC(kernel='rbf', random_state=0)\n",
    "classifier.fit(X_train, y_train)"
   ]
  },
  {
   "cell_type": "code",
   "execution_count": 123,
   "id": "4c63b3b9-42b1-4cf0-8861-5c179c5bbfca",
   "metadata": {},
   "outputs": [
    {
     "name": "stdout",
     "output_type": "stream",
     "text": [
      "[[962   0]\n",
      " [ 60   0]]\n"
     ]
    },
    {
     "data": {
      "text/plain": [
       "0.9412915851272016"
      ]
     },
     "execution_count": 123,
     "metadata": {},
     "output_type": "execute_result"
    }
   ],
   "source": [
    "from sklearn.metrics import confusion_matrix, accuracy_score\n",
    "y_pred = classifier.predict(X_test)\n",
    "cm = confusion_matrix(y_test, y_pred)\n",
    "print(cm)\n",
    "accuracy_score(y_test, y_pred)"
   ]
  },
  {
   "cell_type": "code",
   "execution_count": 124,
   "id": "86722d6e-e628-4334-8cd3-c5fa8801d1fe",
   "metadata": {},
   "outputs": [
    {
     "name": "stdout",
     "output_type": "stream",
     "text": [
      "Accuracy: 95.38 %\n",
      "Standard deviation: 0.07 %\n"
     ]
    }
   ],
   "source": [
    "from sklearn.model_selection import cross_val_score\n",
    "accuracies = cross_val_score(estimator=classifier , X=X_train , y=y_train , cv=10)\n",
    "print('Accuracy: {:.2f} %'.format(accuracies.mean()*100))\n",
    "print('Standard deviation: {:.2f} %'.format(accuracies.std()*100))"
   ]
  },
  {
   "cell_type": "code",
   "execution_count": 125,
   "id": "6d1edd0f-8ad6-4ced-be4d-ceab4d391204",
   "metadata": {},
   "outputs": [
    {
     "data": {
      "text/plain": [
       "RandomizedSearchCV(cv=10, estimator=SVC(random_state=0),\n",
       "                   param_distributions={'C': array([1.00000000e-03, 3.16227766e-03, 1.00000000e-02, 3.16227766e-02,\n",
       "       1.00000000e-01, 3.16227766e-01, 1.00000000e+00, 3.16227766e+00,\n",
       "       1.00000000e+01, 3.16227766e+01, 1.00000000e+02, 3.16227766e+02,\n",
       "       1.00000000e+03, 3.16227766e+03, 1.00000000e+04, 3.16227766e+04,\n",
       "       1.00000000e+05]),\n",
       "                                        'degree': array([2., 3., 4., 5.]),\n",
       "                                        'gamma': array([1.00000000e-03, 3.16227766e-03, 1.00000000e-02, 3.16227766e-02,\n",
       "       1.00000000e-01, 3.16227766e-01, 1.00000000e+00, 3.16227766e+00,\n",
       "       1.00000000e+01, 3.16227766e+01, 1.00000000e+02, 3.16227766e+02,\n",
       "       1.00000000e+03, 3.16227766e+03, 1.00000000e+04, 3.16227766e+04,\n",
       "       1.00000000e+05]),\n",
       "                                        'kernel': ['rbf', 'sigmoid']},\n",
       "                   random_state=0)"
      ]
     },
     "execution_count": 125,
     "metadata": {},
     "output_type": "execute_result"
    }
   ],
   "source": [
    "from sklearn.model_selection import RandomizedSearchCV\n",
    "param_grid = {'kernel': ['rbf', 'sigmoid'],\n",
    "          'degree': np.linspace(2, 5, 4),\n",
    "          'C': np.logspace(-3, 5, 17),\n",
    "          'gamma': np.logspace(-3, 5, 17)}\n",
    "grid = RandomizedSearchCV(classifier, param_grid,cv=10, random_state = 0)\n",
    "grid.fit(X_train, y_train)"
   ]
  },
  {
   "cell_type": "code",
   "execution_count": 126,
   "id": "42299b3e-8c12-432d-a0d7-d1122439ce0a",
   "metadata": {},
   "outputs": [
    {
     "name": "stdout",
     "output_type": "stream",
     "text": [
      "{'kernel': 'sigmoid', 'gamma': 0.01, 'degree': 2.0, 'C': 0.01}\n",
      "SVC(C=0.01, degree=2.0, gamma=0.01, kernel='sigmoid', random_state=0)\n"
     ]
    }
   ],
   "source": [
    "# print best parameter after tuning\n",
    "print(grid.best_params_)\n",
    "# print how our model looks after hyper-parameter tuning\n",
    "print(grid.best_estimator_)"
   ]
  },
  {
   "cell_type": "code",
   "execution_count": 127,
   "id": "32818210-01c9-4d0a-8bb5-08a04e7b3509",
   "metadata": {},
   "outputs": [
    {
     "data": {
      "text/plain": [
       "SVC(C=0.01, degree=2.0, gamma=0.01, kernel='sigmoid', random_state=0)"
      ]
     },
     "execution_count": 127,
     "metadata": {},
     "output_type": "execute_result"
    }
   ],
   "source": [
    "from sklearn.svm import SVC\n",
    "classifier = SVC(C=0.01, degree=2.0, gamma=0.01, kernel='sigmoid', random_state=0)\n",
    "classifier.fit(X_train, y_train)"
   ]
  },
  {
   "cell_type": "code",
   "execution_count": 128,
   "id": "0f7fb22b-fdb8-4759-b36e-d0d5c599a9e1",
   "metadata": {},
   "outputs": [
    {
     "name": "stdout",
     "output_type": "stream",
     "text": [
      "[[962   0]\n",
      " [ 60   0]]\n"
     ]
    },
    {
     "data": {
      "text/plain": [
       "0.9412915851272016"
      ]
     },
     "execution_count": 128,
     "metadata": {},
     "output_type": "execute_result"
    }
   ],
   "source": [
    "from sklearn.metrics import confusion_matrix, accuracy_score\n",
    "y_pred = classifier.predict(X_test)\n",
    "cm = confusion_matrix(y_test, y_pred)\n",
    "print(cm)\n",
    "accuracy_score(y_test, y_pred)"
   ]
  },
  {
   "cell_type": "code",
   "execution_count": 129,
   "id": "ba26e919-d280-4b93-88f1-c123b8016c4d",
   "metadata": {},
   "outputs": [
    {
     "name": "stdout",
     "output_type": "stream",
     "text": [
      "Our Final Model accuracy is 0.9412915851272016%\n"
     ]
    }
   ],
   "source": [
    "print(\"Our Final Model accuracy is \" + str(accuracy_score(y_test, y_pred)) + \"%\")"
   ]
  }
 ],
 "metadata": {
  "kernelspec": {
   "display_name": "Python 3 (ipykernel)",
   "language": "python",
   "name": "python3"
  },
  "language_info": {
   "codemirror_mode": {
    "name": "ipython",
    "version": 3
   },
   "file_extension": ".py",
   "mimetype": "text/x-python",
   "name": "python",
   "nbconvert_exporter": "python",
   "pygments_lexer": "ipython3",
   "version": "3.8.8"
  }
 },
 "nbformat": 4,
 "nbformat_minor": 5
}
